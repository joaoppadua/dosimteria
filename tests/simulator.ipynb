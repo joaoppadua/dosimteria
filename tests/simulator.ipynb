{
 "cells": [
  {
   "cell_type": "code",
   "execution_count": 1,
   "metadata": {},
   "outputs": [],
   "source": [
    "import numpy as np\n",
    "from matplotlib import pyplot"
   ]
  },
  {
   "cell_type": "code",
   "execution_count": null,
   "metadata": {},
   "outputs": [],
   "source": [
    "#TODO: Monte Carlo simulation of random fluctuation between max and min and plot \n"
   ]
  },
  {
   "cell_type": "markdown",
   "metadata": {},
   "source": [
    "## Cálculo de pena-base como uma função linear\n",
    "\n",
    "Pena mínima acrescida da multiplicação de um vetor (8, 1) de 0 ou 1 por um vetor de (1,8) em que cada elemento é 1/8 * (P_max - P_min). O vetor 1 terá zero nas circunstâncias favoráveis e 1 nas desfavoráveis. \n",
    "\n",
    "### Lista de circunstâncias judciais:\n",
    "1. Culpabilidade\n",
    "2. Antecedentes\n",
    "3. Conduta social\n",
    "4. Personalidade\n",
    "5. motivos [do crime]\n",
    "6. circunstâncias [do crime]\n",
    "7. consequências do crime\n",
    "8. comportamento da vítima\n",
    "\n",
    "*Interessante problema qualitativo:* Como dizer que o \"comportamento da vítima foi \"favorável\" ou \"desfavorável\"?\n",
    "\n",
    "Uma primeira aproximação da equação de fixação da pena-base, então, seria: \n",
    "\n",
    "$$ P_{base} = f(P_{min}, P_{max}, \\vec{V_1}, \\vec{V_2}) = P_{min} + \\vec{V_1} \\cdot \\vec{V_2} $$\n",
    "\n",
    "onde, $ \\vec{V_1} = \\begin{bmatrix} a_1 & a_2 & \\cdots & a_8 \\end{bmatrix}$, $\\vec{V_2} = \\begin{bmatrix} b \\\\ b \\\\ \\vdots \\\\ b \\end{bmatrix} $, com $a_1 \\cdots a_8 \\in {0, 1}$ \n",
    "e $b = \\frac{1}{8} \\times(P_{max} - P_{min})$\n"
   ]
  },
  {
   "cell_type": "code",
   "execution_count": null,
   "metadata": {},
   "outputs": [],
   "source": [
    "#TODO: write model of weights in 8 number vector \n"
   ]
  },
  {
   "cell_type": "code",
   "execution_count": null,
   "metadata": {},
   "outputs": [],
   "source": [
    "#TODO: Monte Carlo simulation of model"
   ]
  }
 ],
 "metadata": {
  "kernelspec": {
   "display_name": "dosimetria",
   "language": "python",
   "name": "python3"
  },
  "language_info": {
   "codemirror_mode": {
    "name": "ipython",
    "version": 3
   },
   "file_extension": ".py",
   "mimetype": "text/x-python",
   "name": "python",
   "nbconvert_exporter": "python",
   "pygments_lexer": "ipython3",
   "version": "3.10.13"
  },
  "orig_nbformat": 4
 },
 "nbformat": 4,
 "nbformat_minor": 2
}
